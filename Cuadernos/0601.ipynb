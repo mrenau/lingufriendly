{
 "cells": [
  {
   "cell_type": "markdown",
   "metadata": {},
   "source": [
    "# Tema 6: Bucles (I)\n",
    "Una de las cosas más útiles de la programación son los bucles. Seguro que ya te ha pasado que te hartas de escribir la misma línea o una línea muy parecida tropecientas veces. La mayoría lo que hacemos en esa situación es copiar y pegar y cambiar lo que haga falta. Pero aun así es un rollo, y lo peor es que es muy fácil que nos equivoquemos.\n",
    "\n",
    "¿Y si no tuviéramos que hacerlo? Seríamos mucho más rápidos; además, no habría lugar a error. Así que, si se puede automatizar y nos hace más productivos, seguro que hay otra forma de hacerlo. Pues así es; casi siempre en programación vamos a poder decir que la anterior oración es cierta.\n",
    "\n",
    "Hasta ahora, si queríamos que una misma instrucción se ejecutara varias veces teníamos que escribirla otras tantas. Pero los bucles nos van a permitir escribir una instrucción o conjunto de instrucciones una sola vez y que se ejecute el número de veces que queramos.\n",
    "\n",
    "Hay 2 tipos de bucles: los que se escriben con la instrucción `while` y los que se escriben con `for`."
   ]
  },
  {
   "cell_type": "markdown",
   "metadata": {},
   "source": [
    "## Bucles con `while`\n",
    "El esquema que sigue la instrucción `while` es similar al de `if`:\n",
    "\n",
    "    <inicialización_del_bucle>\n",
    "    while <condición>:\n",
    "        <instrucciones_dentro_del_while>\n",
    "    <resto_del_programa>\n",
    "\n",
    "Lo que hacemos cuando usamos `while` es decirle al intérprete que mientras se cumpla una función ejecute las instrucciones dentro del `while`, y cuando deje de darse esa condición continúe con el resto del programa.\n",
    "\n",
    "Por ejemplo, podemos escribir las siguientes líneas para imprimir los números del 1 al 5:"
   ]
  },
  {
   "cell_type": "code",
   "execution_count": 1,
   "metadata": {},
   "outputs": [
    {
     "name": "stdout",
     "output_type": "stream",
     "text": [
      "1\n",
      "2\n",
      "3\n",
      "4\n",
      "5\n"
     ]
    }
   ],
   "source": [
    "i = 1\n",
    "while i <= 5:\n",
    "    print(i)\n",
    "    i = i + 1"
   ]
  },
  {
   "cell_type": "markdown",
   "metadata": {},
   "source": [
    "Por convención, el nombre de la variable que nos va a servir para iterar por el bucle es `i` (de _index_, «índice»), pero podríamos llamarla de cualquier manera:"
   ]
  },
  {
   "cell_type": "code",
   "execution_count": 3,
   "metadata": {},
   "outputs": [
    {
     "name": "stdout",
     "output_type": "stream",
     "text": [
      "1\n",
      "2\n",
      "3\n",
      "4\n",
      "5\n"
     ]
    }
   ],
   "source": [
    "numerito = 1\n",
    "while numerito <= 5:\n",
    "    print(numerito)\n",
    "    numerito = numerito + 1"
   ]
  },
  {
   "cell_type": "markdown",
   "metadata": {},
   "source": [
    "Lo primero que hacemos es inicializar el bucle, es decir, declarar una variable `i` con un valor inicial `1`. Ahora que ya existe una variable en nuestro entorno, podemos crear un bucle con `while` en el que vayamos incrementando su valor en una unidad cada vez.\n",
    "\n",
    "En la segunda línea creamos el bucle con la condición de que `i` sea igual o menor que 5. Como en este punto del programa `i` es igual a 1, el programa entra en el bucle y ejecuta las instrucciones que hay dentro de él.\n",
    "\n",
    "La primera instrucción dentro del `while` es imprimir el valor que contiene la variable `i`, que sigue valiendo 1, así que se imprime un 1.\n",
    "\n",
    "En la siguiente línea ya cambiamos el valor de la variable; le sumamos 1. ¿Recuerdas lo que dijimos sobre el orden de lectura en el cuaderno 3 del tema 2? Te lo refresco: el intérprete lee de derecha a izquierda, así que primero calcula la expresión a la derecha de la asignación (`i` (que todavía vale 1) `+ 1`) y luego se lo asigna a `i`. Así que al terminar de ejecutarse esta línea, `i` vale 2.\n",
    "\n",
    "Cuando se ejecuta la última instrucción del bucle, se vuelve a evaluar la condición con la que lo hemos abierto. `i` vale 2, así que la condición sigue siendo cierta y el programa no se sale del bucle. Se vuelve a ejecutar la primera instrucción, volvemos a llegar al final, evaluamos de nuevo la condición, así que seguimos dentro del bucle y ejecutamos las instrucciones... hasta que llega un momento en que la última instrucción hace que `i` valga 6 y el programa se salga del bucle porque deja de cumplirse la condición. Pero en el camino hemos escrito los números que queríamos imprimir."
   ]
  },
  {
   "cell_type": "markdown",
   "metadata": {},
   "source": [
    "### Un error común: bucle infinito\n",
    "Es muy importante que al final de las instrucciones que van dentro del `while` permitamos que en alguna ocasión la condición deje de cumplirse. Si no, nuestro programa entrará en un bucle infinito. No arrojará un error, pero nunca terminará de ejecutarse, así que tendremos que pararlo. Así que, como truco, si tu programa tarda más de lo habitual en ejecutarse, piensa si ha podido entrar en un bucle infinito.\n",
    "\n",
    "En la terminal, para parar un proceso puedes hacer Ctrl + C.\n",
    "\n",
    "En los cuadernos, tendrás que seleccionar Kernel > Interrupt Kernel o, si eso no funciona, Restart.\n",
    "\n",
    "Puedes probar lo que pasa cuando se ejecuta un código con un bucle infinito ejecutando la siguiente celda, que imprimirá un 1 en distintas filas mientras la dejemos. Pero **¡cuidado con esta celda!** No te recomiendo ejecutarla si tu ordenador es lento."
   ]
  },
  {
   "cell_type": "code",
   "execution_count": null,
   "metadata": {},
   "outputs": [],
   "source": [
    "i = 1\n",
    "while i <= 5:\n",
    "    print(i)"
   ]
  },
  {
   "cell_type": "markdown",
   "metadata": {},
   "source": [
    "¿Qué tendríamos que hacer para que nuestro programa no entre en un bucle infinito? En este ejemplo, hacer que en algún momento `i` valga más de 5. Así que podemos añadir una línea en la que sumemos algo a `i`, para que se ejecute cada vez que el programa entra en el bucle."
   ]
  },
  {
   "cell_type": "code",
   "execution_count": 1,
   "metadata": {},
   "outputs": [
    {
     "name": "stdout",
     "output_type": "stream",
     "text": [
      "1\n",
      "3\n",
      "5\n"
     ]
    }
   ],
   "source": [
    "i = 1\n",
    "while i <= 5:\n",
    "    print(i)\n",
    "    i = i + 2"
   ]
  },
  {
   "cell_type": "markdown",
   "metadata": {},
   "source": [
    "## Número de repeticiones ligado a otros fenómenos\n",
    "A veces, no sabemos exactamente cuántas veces vamos a querer que se repitan nuestras instrucciones, o queremos ligarlas a otros fenómenos distintos de progresiones aritméticas.\n",
    "\n",
    "Por ejemplo, podemos usar `while` para hacerle al usuario cuantas preguntas sean necesarias hasta que adivine un número:"
   ]
  },
  {
   "cell_type": "code",
   "execution_count": 2,
   "metadata": {},
   "outputs": [
    {
     "name": "stdout",
     "output_type": "stream",
     "text": [
      "Estoy pensando un número. ¿Adivinas cuál es?: 4\n",
      "Ese no es. Prueba otra vez: 9\n",
      "Ese no es. Prueba otra vez: 7\n",
      "¡Sí! Estaba pensando en el 7\n"
     ]
    }
   ],
   "source": [
    "num_secreto = 7\n",
    "\n",
    "num_propuesto = int(input(\"Estoy pensando un número. ¿Adivinas cuál es?: \"))\n",
    "\n",
    "while num_propuesto != num_secreto:\n",
    "    num_propuesto = int(input(\"Ese no es. Prueba otra vez: \"))\n",
    "\n",
    "print(\"¡Sí! Estaba pensando en el\", num_secreto)"
   ]
  },
  {
   "cell_type": "markdown",
   "metadata": {},
   "source": [
    "El programa pide un número al usuario. Si lo adivina a la primera, el programa nunca entra en el bucle, porque no se cumple la condición. Si no, seguirá pidiendo números al usuario hasta que introduzca el 7.\n",
    "\n",
    "Al principio del tema dijimos que los bucles nos permitían automatizar tareas repetitivas, pero que en cualquier caso podíamos diseñar a mano, aunque fuera más lento y peligroso. Sin embargo, esto no es del todo cierto; el programa anterior no podríamos haberlo escrito sin `while`."
   ]
  },
  {
   "cell_type": "markdown",
   "metadata": {},
   "source": [
    "## Menú de opciones\n",
    "Una de las cosas más útiles que podemos programar con `while` son los menús de opciones, ya que normalmente querremos que solo dejen de salir cuando el usuario elija la opción de salir.\n",
    "\n",
    "Por ejemplo, podemos escribir un programa que permita al usuario elegir entre un refrán, un consejo o un poema para que se pinten por pantalla o salir del programa, y puede pedir cuantos textos quiera hasta que se canse y elija la opción de salir."
   ]
  },
  {
   "cell_type": "code",
   "execution_count": 4,
   "metadata": {},
   "outputs": [
    {
     "name": "stdout",
     "output_type": "stream",
     "text": [
      "Bienvenido a 'No te acostarás sin aprender una cosa más'\n",
      "\n",
      "Menú\n",
      "----\n",
      "1. Refrán\n",
      "2. Consejo\n",
      "3. Poema\n",
      "4. Salir del programa\n",
      "\n",
      "Elige tu opción escribiendo el número de la opción: 1\n",
      "\n",
      "A buen entendedor, pocas palabras bastan.\n",
      "\n",
      "Menú\n",
      "----\n",
      "1. Refrán\n",
      "2. Consejo\n",
      "3. Poema\n",
      "4. Salir del programa\n",
      "\n",
      "Elige tu opción escribiendo el número de la opción: 2\n",
      "\n",
      "Come mucha verdura y fruta.\n",
      "\n",
      "Menú\n",
      "----\n",
      "1. Refrán\n",
      "2. Consejo\n",
      "3. Poema\n",
      "4. Salir del programa\n",
      "\n",
      "Elige tu opción escribiendo el número de la opción: 3\n",
      "\n",
      "La cebolla es escarcha\n",
      "cerrada y pobre:\n",
      "escarcha de tus días\n",
      "y de mis noches.\n",
      "Hambre y cebolla:\n",
      "hielo negro y escarcha\n",
      "grande y redonda.\n",
      "\n",
      "Menú\n",
      "----\n",
      "1. Refrán\n",
      "2. Consejo\n",
      "3. Poema\n",
      "4. Salir del programa\n",
      "\n",
      "Elige tu opción escribiendo el número de la opción: 4\n",
      "\n",
      "Esperamos que te haya gustado. ¡Hasta la próxima!\n"
     ]
    }
   ],
   "source": [
    "### Datos\n",
    "refranes = {\n",
    "    \"Cuando el grajo vuela bajo, hace un frío del carajo.\",\n",
    "    \"A buen entendedor, pocas palabras bastan.\",\n",
    "    \"Agua que no has de beber, déjala correr.\",\n",
    "    \"Rectificar es de sabios.\",\n",
    "    \"A palabras necias, oídos sordos.\"}\n",
    "\n",
    "consejos = {\n",
    "    \"Protégete del sol.\",\n",
    "    \"Bebe mucha agua.\",\n",
    "    \"Come mucha verdura y fruta.\",\n",
    "    \"Lávate los dientes después de las comidas.\",\n",
    "    \"Camina recto.\"}\n",
    "\n",
    "poemas = {\n",
    "    \"Al olmo viejo, hendido por el rayo\\ny en su mitad podrido,\\ncon las lluvias de abril y el sol de mayo\\nalgunas hojas verdes le han salido.\",\n",
    "    \"Tú me quieres alba,\\nMe quieres de espumas,\\nMe quieres de nácar.\\nQue sea azucena\\nSobre todas, casta.\\nDe perfume tenue.\\nCorola cerrada.\",\n",
    "    \"La cebolla es escarcha\\ncerrada y pobre:\\nescarcha de tus días\\ny de mis noches.\\nHambre y cebolla:\\nhielo negro y escarcha\\ngrande y redonda.\",\n",
    "    \"Hora tras hora, día tras día,\\nentre el cielo y la tierra que quedan\\neternos vigías,\\ncomo torrente que se despeña,\\npasa la vida.\",\n",
    "    \"Al final de la tarde\\ndime tú ¿qué nos queda?\\nEl zumo del recuerdo\\ny la sonrisa nueva\\nde algo que no fue\\ny hoy se nos entrega.\"}\n",
    "\n",
    "\n",
    "### Programa\n",
    "print(\"Bienvenido a 'No te acostarás sin aprender una cosa más'\")\n",
    "\n",
    "continuar = True\n",
    "\n",
    "# menú\n",
    "while continuar:\n",
    "    print()\n",
    "    print(\"Menú\")\n",
    "    print(\"----\")\n",
    "    print(\"1. Refrán\")\n",
    "    print(\"2. Consejo\")\n",
    "    print(\"3. Poema\")\n",
    "    print(\"4. Salir del programa\")\n",
    "    print()\n",
    "    option = input(\"Elige tu opción escribiendo el número de la opción: \")\n",
    "    \n",
    "    # opción 1: refrán \n",
    "    if option == \"1\":\n",
    "        print()\n",
    "        print(list(refranes)[0])\n",
    "        \n",
    "    # opción 2: consejo\n",
    "    elif option == \"2\":\n",
    "        print()\n",
    "        print(list(consejos)[0])\n",
    "        \n",
    "    # opción 3: poema\n",
    "    elif option == \"3\":\n",
    "        print()\n",
    "        print(list(poemas)[0])\n",
    "        \n",
    "    # opción 4: salir\n",
    "    elif option == \"4\":\n",
    "        continuar = False # le damos el valor False a continuar para salir del bucle\n",
    "        print()\n",
    "        print(\"Esperamos que te haya gustado. ¡Hasta la próxima!\")\n",
    "        \n",
    "    # podemos implantar un código de aviso cuando el usuario no introduzca nada de lo esperable\n",
    "    else:\n",
    "        print()\n",
    "        print(\"Tienes que escribir un número del 1 al 4\")"
   ]
  },
  {
   "cell_type": "markdown",
   "metadata": {},
   "source": [
    "Fíjate en que hemos usado `list()` para convertir los conjuntos en listas justo en el momento de imprimirlos, en vez de usar desde el principio listas para almacenar las frases. De esta manera, cada vez que se reinicie el Kernel los textos serán distintos, porque los conjuntos almacenan elementos de forma aleatoria."
   ]
  },
  {
   "cell_type": "markdown",
   "metadata": {},
   "source": [
    "## Estructura de los programas\n",
    "Como ves en el ejemplo anterior, primero hemos puesto la parte del programa que contiene los datos que vamos a usar en él; en este caso, los conjuntos con frases. Y hemos divido el programa en dos partes diferenciadas mediante los comentarios. Esto es una práctica habitual que conviene seguir, pues ayuda a leer el código."
   ]
  },
  {
   "cell_type": "markdown",
   "metadata": {},
   "source": [
    "## Ejercicios"
   ]
  },
  {
   "cell_type": "markdown",
   "metadata": {},
   "source": [
    "### 060101\n",
    "¿Qué pasa si la condición que inicia un `while` no se cumple?"
   ]
  },
  {
   "cell_type": "markdown",
   "metadata": {},
   "source": [
    "### 060102\n",
    "Imagina que queremos crear nuestro propio calendario en una hoja de cálculo, empezando por este mes, abril de 2020. Tendríamos que escribir un programa que en una línea imprima `lunes 6`, una tabulación (que se escribe `\\t`), `martes 7`, otra tabulación, etc. hasta llegar al domingo 12. En la siguiente línea, tiene que escribir `lunes 13`, tabulación, `martes 14`, tabulación... y de nuevo hasta el domingo.\n",
    "\n",
    "De esta forma, lo que imprima el programa lo podremos copiar y pegar en una hoja de cálculo y tendremos nuestro calendario. Es decir, esta tendría que ser la estructura de lo que imprima:\n",
    "\n",
    "    lunes 6\tmartes 7\tmiércoles 8\tjueves 9\tviernes 10\tsábado 11\tdomingo 12\n",
    "    lunes 13\tmartes 14\tmiércoles 15\tjueves 16\tviernes 17\tsábado 18\tdomingo 19\n",
    "    ...\n",
    "\n",
    "Podemos usar este método para cualquier mes de cualquier año, cambiando solo un dato :)\n",
    "\n",
    "Escribe el programa usando `while`. Deberás inicializar el bucle dándole a `i` el valor `6`."
   ]
  }
 ],
 "metadata": {
  "kernelspec": {
   "display_name": "Python 3",
   "language": "python",
   "name": "python3"
  },
  "language_info": {
   "codemirror_mode": {
    "name": "ipython",
    "version": 3
   },
   "file_extension": ".py",
   "mimetype": "text/x-python",
   "name": "python",
   "nbconvert_exporter": "python",
   "pygments_lexer": "ipython3",
   "version": "3.7.0"
  }
 },
 "nbformat": 4,
 "nbformat_minor": 2
}
