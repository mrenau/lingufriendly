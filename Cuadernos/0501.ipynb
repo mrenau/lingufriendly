{
 "cells": [
  {
   "cell_type": "markdown",
   "metadata": {},
   "source": [
    "# Tema 5: estructuras de datos (I)"
   ]
  },
  {
   "cell_type": "markdown",
   "metadata": {},
   "source": [
    "Hasta ahora hemos utilizado variables que eran capaces de almacenar un único valor. Sin embargo, es posible crear variables que almacenen grandes cantidades de datos. Estos datos pueden estar organizados de distintas maneras en la memoria del ordenador dependiendo de cómo queramos utilizarlos. Las estructuras de datos permiten almacenar grandes cantidades de información de manera eficiente.\n",
    "\n",
    "En este curso vamos a estudiar 3 estructuras de datos principales: listas, conjuntos y diccionarios.\n",
    "## Listas\n",
    "Una _lista_ es una secuencia de elementos. Este término, _secuencia_, es importante porque indica que los elementos están ordenados. Por ejemplo, una lista de empleados contendrá la información de los empleados de una empresa ordenados por algún criterio (quizás los apellidos o la fecha de incorporación).\n",
    "\n",
    "Los pasos de una receta de cocina también los podríamos almacenar como una lista, porque el orden en que se ejecutan es importante (no es lo mismo echar primero el aceite que el huevo). El concepto de orden es importante porque diferencia las listas de otras estructuras de datos como, por ejemplo, los conjuntos.\n",
    "### Crear listas\n",
    "Podemos definir una lista escribiendo sus elementos entre corchetes y separándolos por comas:"
   ]
  },
  {
   "cell_type": "code",
   "execution_count": 1,
   "metadata": {},
   "outputs": [
    {
     "data": {
      "text/plain": [
       "[1, 2, 3, 4, 5]"
      ]
     },
     "execution_count": 1,
     "metadata": {},
     "output_type": "execute_result"
    }
   ],
   "source": [
    "[1, 2, 3, 4, 5]"
   ]
  },
  {
   "cell_type": "markdown",
   "metadata": {},
   "source": [
    "La lista anterior contiene 5 elementos, todos ellos números enteros. Pero las listas también pueden contener elementos de distintos tipos:"
   ]
  },
  {
   "cell_type": "code",
   "execution_count": 4,
   "metadata": {},
   "outputs": [
    {
     "data": {
      "text/plain": [
       "['uno', 2, True, 4.57, 'cinco', 6]"
      ]
     },
     "execution_count": 4,
     "metadata": {},
     "output_type": "execute_result"
    }
   ],
   "source": [
    "['uno', 2, True, 4.57, 'cinco', 2 + 4]"
   ]
  },
  {
   "cell_type": "markdown",
   "metadata": {},
   "source": [
    "Podemos almacenar listas en variables con el operador de asignación:"
   ]
  },
  {
   "cell_type": "code",
   "execution_count": 2,
   "metadata": {},
   "outputs": [
    {
     "name": "stdout",
     "output_type": "stream",
     "text": [
      "['uno', 2, True, 4.57, 'cinco', 6]\n"
     ]
    }
   ],
   "source": [
    "mi_lista = ['uno', 2, True, 4.57, 'cinco', 2 + 4]\n",
    "print(mi_lista)"
   ]
  },
  {
   "cell_type": "markdown",
   "metadata": {},
   "source": [
    "También podemos, y nos va a ser muy útil en algunos momentos, crear listas vacías, simplemento escribiendo los corchetes. Una lista vacía es una lista que no contiene ningún elemento."
   ]
  },
  {
   "cell_type": "code",
   "execution_count": 7,
   "metadata": {},
   "outputs": [],
   "source": [
    "lista_vacia = []"
   ]
  },
  {
   "cell_type": "markdown",
   "metadata": {},
   "source": [
    "### Número de elementos\n",
    "La función `len()` devuelve la longitud de la lista, es decir, el número de elementos que contiene:"
   ]
  },
  {
   "cell_type": "code",
   "execution_count": 12,
   "metadata": {},
   "outputs": [
    {
     "data": {
      "text/plain": [
       "6"
      ]
     },
     "execution_count": 12,
     "metadata": {},
     "output_type": "execute_result"
    }
   ],
   "source": [
    "len(mi_lista)"
   ]
  },
  {
   "cell_type": "markdown",
   "metadata": {},
   "source": [
    "Como es de esperar, la longitud de una lista vacía es 0, por lo tanto, si le pasamos como argumento a `len()` una lista vacía, nos devolverá 0."
   ]
  },
  {
   "cell_type": "code",
   "execution_count": 14,
   "metadata": {},
   "outputs": [
    {
     "data": {
      "text/plain": [
       "0"
      ]
     },
     "execution_count": 14,
     "metadata": {},
     "output_type": "execute_result"
    }
   ],
   "source": [
    "len(lista_vacia)"
   ]
  },
  {
   "cell_type": "markdown",
   "metadata": {},
   "source": [
    "### Consultar si una lista contiene un elemento\n",
    "Podemos consultar si un elemento aparece en la lista con el operador `in`:"
   ]
  },
  {
   "cell_type": "code",
   "execution_count": 15,
   "metadata": {},
   "outputs": [
    {
     "data": {
      "text/plain": [
       "True"
      ]
     },
     "execution_count": 15,
     "metadata": {},
     "output_type": "execute_result"
    }
   ],
   "source": [
    "'cinco' in mi_lista"
   ]
  },
  {
   "cell_type": "markdown",
   "metadata": {},
   "source": [
    "Junto con las condiciones que hemos aprendido, esto permite comprobaciones muy poderosas. Un ejemplo sencillo sería tener una lista cerrada de datos, como pueden ser los continentes, y probar distintos nombres para ver si pertenecen a esa lista."
   ]
  },
  {
   "cell_type": "code",
   "execution_count": 16,
   "metadata": {},
   "outputs": [
    {
     "name": "stdout",
     "output_type": "stream",
     "text": [
      "Según esta fuente, América NO es un continente.\n"
     ]
    }
   ],
   "source": [
    "continentes = ['Europa', 'Asia', 'Oceanía', 'África', 'América del Norte', 'América del Sur', 'Antártida']\n",
    "america = 'América'\n",
    "if america in continentes:\n",
    "    print('Según esta fuente,', america, 'es un continente.')\n",
    "else:\n",
    "    print('Según esta fuente,', america, 'NO es un continente.')"
   ]
  },
  {
   "cell_type": "markdown",
   "metadata": {},
   "source": [
    "### Acceder a un elemento\n",
    "Podemos acceder a los elementos de una lista de la misma forma que accedíamos a los caracteres de una string: escribiendo el nombre de la lista y, seguidamente, la posición del elemento que nos interese entre corchetes. También podemos usar el slicing usando los dos puntos para indicar las posiciones inicial y final de la sublista que nos interese.\n",
    "\n",
    "Recuerda que el primer elemento de una lista está en la posición 0. En Python, siempre empezamos a contar desde 0."
   ]
  },
  {
   "cell_type": "code",
   "execution_count": 3,
   "metadata": {},
   "outputs": [
    {
     "name": "stdout",
     "output_type": "stream",
     "text": [
      "uno\n",
      "['uno', 2]\n",
      "[2, True, 4.57]\n"
     ]
    }
   ],
   "source": [
    "print(mi_lista[0])\n",
    "print(mi_lista[0:2])\n",
    "print(mi_lista[1:4])"
   ]
  },
  {
   "cell_type": "markdown",
   "metadata": {},
   "source": [
    "### Modificar elementos\n",
    "Podemos modificar un elemento de una lista simplemente asignándole un nuevo valor:"
   ]
  },
  {
   "cell_type": "code",
   "execution_count": 33,
   "metadata": {},
   "outputs": [
    {
     "name": "stdout",
     "output_type": "stream",
     "text": [
      "['Rembrandt', 'Rafael', 'Boticelli', 'Van Gogh']\n",
      "['Rembrandt', 'Rafael', 'Botticelli', 'Van Gogh']\n"
     ]
    }
   ],
   "source": [
    "pintores = ['Rembrandt', 'Rafael', 'Boticelli', 'Van Gogh']\n",
    "print(pintores)\n",
    "pintores[2] = 'Botticelli' # corregimos la errata\n",
    "print(pintores)"
   ]
  },
  {
   "cell_type": "markdown",
   "metadata": {},
   "source": [
    "O modificar varios elementos de una vez utilizando rangos:"
   ]
  },
  {
   "cell_type": "code",
   "execution_count": 34,
   "metadata": {},
   "outputs": [
    {
     "name": "stdout",
     "output_type": "stream",
     "text": [
      "['Rembrandt', 'Rafael', 'Botticelli', 'Picasso']\n"
     ]
    }
   ],
   "source": [
    "pintores[2:4] = ['Botticelli', 'Picasso']\n",
    "print(pintores)"
   ]
  },
  {
   "cell_type": "markdown",
   "metadata": {},
   "source": [
    "El rango 2:4 contiene 2 elementos (recuerda que el último queda fuera del rango) y por tanto tenemos que asignarle una lista de longitud 2."
   ]
  },
  {
   "cell_type": "markdown",
   "metadata": {},
   "source": [
    "### Añadir un nuevo elemento\n",
    "Para añadir un nuevo elemento a una lista, podemos usar el método `.append()`:"
   ]
  },
  {
   "cell_type": "code",
   "execution_count": 40,
   "metadata": {},
   "outputs": [
    {
     "name": "stdout",
     "output_type": "stream",
     "text": [
      "['harina', 'huevos', 'azúcar', 'mantequilla']\n"
     ]
    }
   ],
   "source": [
    "compra = []\n",
    "compra.append('harina')\n",
    "compra.append('huevos')\n",
    "compra.append('azúcar')\n",
    "compra.append('mantequilla')\n",
    "print(compra)"
   ]
  },
  {
   "cell_type": "markdown",
   "metadata": {},
   "source": [
    "También podemos añadir elementos en una posición determinada usando el método `.insert()`, que recibe dos argumentos: la posición en la que insertar y el nuevo elemento:"
   ]
  },
  {
   "cell_type": "code",
   "execution_count": 41,
   "metadata": {},
   "outputs": [
    {
     "name": "stdout",
     "output_type": "stream",
     "text": [
      "['levadura', 'harina', 'huevos', 'azúcar', 'mantequilla']\n"
     ]
    }
   ],
   "source": [
    "compra.insert(0, 'levadura')\n",
    "print(compra)"
   ]
  },
  {
   "cell_type": "markdown",
   "metadata": {},
   "source": [
    "### Eliminar un elemento\n",
    "Podemos eliminar el elemento que ocupa una posición determinada en la lista usando la palabra reservada `del`:"
   ]
  },
  {
   "cell_type": "code",
   "execution_count": 42,
   "metadata": {},
   "outputs": [
    {
     "name": "stdout",
     "output_type": "stream",
     "text": [
      "['harina', 'huevos', 'azúcar', 'mantequilla']\n"
     ]
    }
   ],
   "source": [
    "del compra[0]\n",
    "print(compra)"
   ]
  },
  {
   "cell_type": "markdown",
   "metadata": {},
   "source": [
    "También podemos eliminar la primera aparición de un elemento en una lista, esté donde esté, con el método `.remove()`:"
   ]
  },
  {
   "cell_type": "code",
   "execution_count": 43,
   "metadata": {},
   "outputs": [
    {
     "name": "stdout",
     "output_type": "stream",
     "text": [
      "['harina', 'huevos', 'mantequilla']\n"
     ]
    }
   ],
   "source": [
    "compra.remove('azúcar')\n",
    "print(compra)"
   ]
  },
  {
   "cell_type": "markdown",
   "metadata": {},
   "source": [
    "### Encontrar un elemento\n",
    "Podemos encontrar la posición que ocupa un elemento en la lista usando el método `.index()`:"
   ]
  },
  {
   "cell_type": "code",
   "execution_count": 44,
   "metadata": {},
   "outputs": [
    {
     "data": {
      "text/plain": [
       "1"
      ]
     },
     "execution_count": 44,
     "metadata": {},
     "output_type": "execute_result"
    }
   ],
   "source": [
    "letras = ['a', 'b', 'c']\n",
    "letras.index('b')"
   ]
  },
  {
   "cell_type": "markdown",
   "metadata": {},
   "source": [
    "Si el elemento aparece varias veces en la lista, `.index()` devolverá la posición de la primera aparición. Y si el elemento buscado no aparece en la lista, se producirá un error."
   ]
  },
  {
   "cell_type": "code",
   "execution_count": 45,
   "metadata": {},
   "outputs": [
    {
     "data": {
      "text/plain": [
       "0"
      ]
     },
     "execution_count": 45,
     "metadata": {},
     "output_type": "execute_result"
    }
   ],
   "source": [
    "letras = ['a', 'b', 'c', 'a']\n",
    "letras.index('a')"
   ]
  },
  {
   "cell_type": "code",
   "execution_count": 46,
   "metadata": {},
   "outputs": [
    {
     "ename": "ValueError",
     "evalue": "'z' is not in list",
     "output_type": "error",
     "traceback": [
      "\u001b[1;31m---------------------------------------------------------------------------\u001b[0m",
      "\u001b[1;31mValueError\u001b[0m                                Traceback (most recent call last)",
      "\u001b[1;32m<ipython-input-46-8dbff3d6e848>\u001b[0m in \u001b[0;36m<module>\u001b[1;34m()\u001b[0m\n\u001b[1;32m----> 1\u001b[1;33m \u001b[0mletras\u001b[0m\u001b[1;33m.\u001b[0m\u001b[0mindex\u001b[0m\u001b[1;33m(\u001b[0m\u001b[1;34m'z'\u001b[0m\u001b[1;33m)\u001b[0m\u001b[1;33m\u001b[0m\u001b[0m\n\u001b[0m",
      "\u001b[1;31mValueError\u001b[0m: 'z' is not in list"
     ]
    }
   ],
   "source": [
    "letras.index('z')"
   ]
  },
  {
   "cell_type": "markdown",
   "metadata": {},
   "source": [
    "## Las strings son listas… o casi\n",
    "Las listas y las cadenas de caracteres son muy parecidas. Como habrás observado, muchas de las operaciones que acabamos de hacer con listas se pueden hacer con cadenas."
   ]
  },
  {
   "cell_type": "code",
   "execution_count": 3,
   "metadata": {},
   "outputs": [
    {
     "name": "stdout",
     "output_type": "stream",
     "text": [
      "a\n",
      "o\n",
      "chofa\n",
      "True\n"
     ]
    }
   ],
   "source": [
    "palabra = 'alcachofa'\n",
    "print(palabra[0])\n",
    "print(palabra[6])\n",
    "print(palabra[4:9])\n",
    "print('a' in palabra)"
   ]
  },
  {
   "cell_type": "markdown",
   "metadata": {},
   "source": [
    "La principal diferencia entre ambas es que los elementos de una lista de pueden modificar, pero los de una cadena de caracteres no. Si lo intentamos, saltará un error."
   ]
  },
  {
   "cell_type": "code",
   "execution_count": 28,
   "metadata": {},
   "outputs": [
    {
     "ename": "TypeError",
     "evalue": "'str' object does not support item assignment",
     "output_type": "error",
     "traceback": [
      "\u001b[1;31m---------------------------------------------------------------------------\u001b[0m",
      "\u001b[1;31mTypeError\u001b[0m                                 Traceback (most recent call last)",
      "\u001b[1;32m<ipython-input-28-52f407eeab52>\u001b[0m in \u001b[0;36m<module>\u001b[1;34m()\u001b[0m\n\u001b[1;32m----> 1\u001b[1;33m \u001b[0mpalabra\u001b[0m\u001b[1;33m[\u001b[0m\u001b[1;36m6\u001b[0m\u001b[1;33m]\u001b[0m \u001b[1;33m=\u001b[0m \u001b[1;34m'a'\u001b[0m\u001b[1;33m\u001b[0m\u001b[0m\n\u001b[0m",
      "\u001b[1;31mTypeError\u001b[0m: 'str' object does not support item assignment"
     ]
    }
   ],
   "source": [
    "palabra[6] = 'a'"
   ]
  },
  {
   "cell_type": "markdown",
   "metadata": {},
   "source": [
    "# Ejercicios\n",
    "## 050101\n",
    "Toma esta lista de los 28 Estados miembros de la Unión Europea y escribe un programa que pida al usuario un nombre de país y le responda si está o no en la UE. El usuario debe introducir el nombre del país correctamente."
   ]
  },
  {
   "cell_type": "code",
   "execution_count": 16,
   "metadata": {},
   "outputs": [],
   "source": [
    "paises = [\"Alemania\",\n",
    "    \"Austria\",\n",
    "    \"Bélgica\",\n",
    "    \"Bulgaria\",\n",
    "    \"Chipre\",\n",
    "    \"Croacia\",\n",
    "    \"Dinamarca\",\n",
    "    \"Eslovaquia\",\n",
    "    \"Eslovenia\",\n",
    "    \"España\",\n",
    "    \"Estonia\",\n",
    "    \"Finlandia\",\n",
    "    \"Francia\",\n",
    "    \"Grecia\",\n",
    "    \"Hungría\",\n",
    "    \"Irlanda\",\n",
    "    \"Italia\",\n",
    "    \"Letonia\",\n",
    "    \"Lituania\",\n",
    "    \"Luxemburgo\",\n",
    "    \"Malta\",\n",
    "    \"Países Bajos\",\n",
    "    \"Polonia\",\n",
    "    \"Portugal\",\n",
    "    \"Reino Unido\",\n",
    "    \"República Checa\",\n",
    "    \"Rumanía\",\n",
    "    \"Suecia\"    \n",
    "]"
   ]
  },
  {
   "cell_type": "markdown",
   "metadata": {},
   "source": [
    "## 050102\n",
    "Ahora, haz lo mismo pero permitiendo que el usuario escriba el nombre del país en minúsculas. Es decir, crea una lista `paises_minus`, a partir de la lista `paises`, que contenga los mismos elementos pero en minúsculas, para después poder consultar directamente si el input del usuario en minúsculas está en la lista."
   ]
  },
  {
   "cell_type": "markdown",
   "metadata": {},
   "source": [
    "## 050103\n",
    "Crea otra lista, a partir de `paises_minus`, que contenga los mismos países que esta y añade los demás países que están en Europa pero no en la Unión Europea. La idea es, ahora, pedir un nombre de país europeo al usuario y decirle si está en la UE o no, y si es europeo o se ha equivocado.\n",
    "\n",
    "Los países europeos que no están en la UE son, [según la Comisión Europea](https://ec.europa.eu/social/main.jsp?langId=es&catId=470), los siguientes: Islandia, Liechtenstein, Noruega, Suiza, Turquía, Rusia, Albania, Macedonia, Montenegro, Andorra y San Marino."
   ]
  }
 ],
 "metadata": {
  "kernelspec": {
   "display_name": "Python 3",
   "language": "python",
   "name": "python3"
  },
  "language_info": {
   "codemirror_mode": {
    "name": "ipython",
    "version": 3
   },
   "file_extension": ".py",
   "mimetype": "text/x-python",
   "name": "python",
   "nbconvert_exporter": "python",
   "pygments_lexer": "ipython3",
   "version": "3.7.0"
  }
 },
 "nbformat": 4,
 "nbformat_minor": 2
}
