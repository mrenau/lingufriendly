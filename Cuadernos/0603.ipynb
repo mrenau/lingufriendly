{
 "cells": [
  {
   "cell_type": "markdown",
   "metadata": {},
   "source": [
    "# Tema 6: Bucles (III)"
   ]
  },
  {
   "cell_type": "markdown",
   "metadata": {},
   "source": [
    "## Bucles `for` con estructuras de datos\n",
    "Como hemos dicho en el anterior cuaderno, `for` no solo se puede usar con rangos, sino también con listas, conjuntos y diccionarios. La estructura es la misma:\n",
    "\n",
    "    for <variable> in <estructura>:\n",
    "        <instrucciones_dentro_del_for>\n",
    "    <resto_del_programa>\n",
    "\n",
    "Podríamos preguntarnos: ¿en qué se diferencia una estructura de datos, como puede ser una lista, de un rango? Efectivamente, un rango es casi una lista, pero no. Y esto es por una cuestión de memoria. Sería muy ineficiente que `range()` generara una lista solo para recorrerla en un bucle, así que simplemente genera un objeto iterable similar a una lista, pero que solo mantiene en memoria un número a la vez, en lugar de todos, como hacen las listas."
   ]
  },
  {
   "cell_type": "markdown",
   "metadata": {},
   "source": [
    "### Recorrer los elementos de una lista\n",
    "Podemos recorrer los elementos de una lista usando `for` y dando un nombre temporal a los elementos de la lista, normalmente un nombre descriptivo que se haga entender:"
   ]
  },
  {
   "cell_type": "code",
   "execution_count": 1,
   "metadata": {},
   "outputs": [
    {
     "name": "stdout",
     "output_type": "stream",
     "text": [
      "sócrates\n",
      "platón\n",
      "aristóteles\n"
     ]
    }
   ],
   "source": [
    "filosofos = [\"sócrates\", \"platón\", \"aristóteles\"]\n",
    "for filosofo in filosofos:\n",
    "    print(filosofo)"
   ]
  },
  {
   "cell_type": "markdown",
   "metadata": {},
   "source": [
    "Ya sabes que los elementos de las listas siempre están en el mismo orden. Por eso, a veces querremos recorrer los elementos de una lista a la vez que la posición que ocupan en ella. Esto se puede hacer dando dos nombres temporales a la posición y al elemento, separados por una coma, y recorriendo la función `enumerate()`, que debe tomar como argumento el nombre de la lista. Como en el siguiente ejemplo:"
   ]
  },
  {
   "cell_type": "code",
   "execution_count": 2,
   "metadata": {},
   "outputs": [
    {
     "name": "stdout",
     "output_type": "stream",
     "text": [
      "0 sócrates\n",
      "1 platón\n",
      "2 aristóteles\n"
     ]
    }
   ],
   "source": [
    "for orden, filosofo in enumerate(filosofos):\n",
    "    print(orden, filosofo)"
   ]
  },
  {
   "cell_type": "markdown",
   "metadata": {},
   "source": [
    "#### Listas por comprensión (o _list comprehensions_)\n",
    "Las _lists comprehensions_ son una forma muy compacta de recorrer una lista o un rango para crear otra lista. En vez de declarar una lista vacía en una línea, escribir el `for` en otra, escribir las instrucciones dentro del `for` en otra y usar `.append()` en otra, se le aplican las instrucciones al elemento y se mete directamente en la lista, todo en una sola línea."
   ]
  },
  {
   "cell_type": "code",
   "execution_count": 3,
   "metadata": {},
   "outputs": [
    {
     "name": "stdout",
     "output_type": "stream",
     "text": [
      "['Sócrates', 'Platón', 'Aristóteles']\n"
     ]
    }
   ],
   "source": [
    "filosofos_corregidos = [filosofo.capitalize() for filosofo in filosofos]\n",
    "\n",
    "print(filosofos_corregidos)"
   ]
  },
  {
   "cell_type": "markdown",
   "metadata": {},
   "source": [
    "Los programadores de Python usan esta forma de crear listas de manera habitual, pero puede ser un tanto opaca. Te recomiendo usarla si tienes la seguridad de que al volver a pasar por ella vas a saber qué hace esa línea (porque has puesto un comentario, porque te has acostumbrado...).\n",
    "\n",
    "En todo caso, solo se pueden usar cuando las instrucciones dentro del `for` son muy cortas. Y siempre van a poder escribirse de la manera básica:"
   ]
  },
  {
   "cell_type": "code",
   "execution_count": 4,
   "metadata": {},
   "outputs": [
    {
     "name": "stdout",
     "output_type": "stream",
     "text": [
      "['Sócrates', 'Platón', 'Aristóteles']\n"
     ]
    }
   ],
   "source": [
    "filosofos_corregidos = []\n",
    "for filosofo in filosofos:\n",
    "    filosofo = filosofo.capitalize()\n",
    "    filosofos_corregidos.append(filosofo)\n",
    "\n",
    "print(filosofos_corregidos)"
   ]
  },
  {
   "cell_type": "markdown",
   "metadata": {},
   "source": [
    "### Recorrer los elementos de un conjunto\n",
    "También usaremos `for` para recorrer los elementos de un conjunto:"
   ]
  },
  {
   "cell_type": "code",
   "execution_count": 5,
   "metadata": {},
   "outputs": [
    {
     "name": "stdout",
     "output_type": "stream",
     "text": [
      "verde\n",
      "azul\n",
      "rojo\n",
      "amarillo\n"
     ]
    }
   ],
   "source": [
    "conjunto = {\"rojo\", \"verde\", \"azul\", \"amarillo\"}\n",
    "\n",
    "for elemento in conjunto:\n",
    "    print(elemento)"
   ]
  },
  {
   "cell_type": "markdown",
   "metadata": {},
   "source": [
    "Como ves, al tratarse de un conjunto no podemos saber en qué orden se van a imprimir los elementos."
   ]
  },
  {
   "cell_type": "markdown",
   "metadata": {},
   "source": [
    "#### Conjuntos por comprensión (o _set comprehensions_)\n",
    "Al igual que con las listas, podemos crear conjuntos de manera compacta a partir de los elementos en otro conjunto o lista:"
   ]
  },
  {
   "cell_type": "code",
   "execution_count": 6,
   "metadata": {},
   "outputs": [
    {
     "name": "stdout",
     "output_type": "stream",
     "text": [
      "{0, 1, 64, 4, 36, 9, 16, 49, 81, 25}\n"
     ]
    }
   ],
   "source": [
    "cuadrados = {x * x for x in range(0, 10)}\n",
    "\n",
    "print(cuadrados)"
   ]
  },
  {
   "cell_type": "markdown",
   "metadata": {},
   "source": [
    "### Recorrer los elementos de un diccionario\n",
    "En un diccionario podemos querer recorrer las claves, los valores o las claves y los valores a la vez.\n",
    "\n",
    "Para recorrer las claves aplicaremos `.keys()` al diccionario, aunque también podemos usar directamente el nombre del diccionario como si recorriéramos una lista, porque las claves son los elementos por defecto de los diccionarios."
   ]
  },
  {
   "cell_type": "code",
   "execution_count": 7,
   "metadata": {},
   "outputs": [
    {
     "name": "stdout",
     "output_type": "stream",
     "text": [
      "title\n",
      "author\n",
      "year\n",
      "\n",
      "title\n",
      "author\n",
      "year\n"
     ]
    }
   ],
   "source": [
    "libro = {'title': 'El retrato de Dorian Gray', 'author': 'Oscar Wilde', 'year': '1890'}\n",
    "\n",
    "for clave in libro.keys():\n",
    "    print(clave)\n",
    "\n",
    "print()    \n",
    "    \n",
    "for clave in libro:\n",
    "    print(clave)"
   ]
  },
  {
   "cell_type": "markdown",
   "metadata": {},
   "source": [
    "Los valores de un diccionario se recorren usando `.values()`:"
   ]
  },
  {
   "cell_type": "code",
   "execution_count": 8,
   "metadata": {},
   "outputs": [
    {
     "name": "stdout",
     "output_type": "stream",
     "text": [
      "El retrato de Dorian Gray\n",
      "Oscar Wilde\n",
      "1890\n"
     ]
    }
   ],
   "source": [
    "for value in libro.values():\n",
    "    print(value)"
   ]
  },
  {
   "cell_type": "markdown",
   "metadata": {},
   "source": [
    "Y finalmente si lo que queremos es obtener tanto la clave como su valor asociado usaremos `.items()`:"
   ]
  },
  {
   "cell_type": "code",
   "execution_count": 9,
   "metadata": {},
   "outputs": [
    {
     "name": "stdout",
     "output_type": "stream",
     "text": [
      "title: El retrato de Dorian Gray\n",
      "author: Oscar Wilde\n",
      "year: 1890\n"
     ]
    }
   ],
   "source": [
    "for clave, valor in libro.items():\n",
    "    print(clave, \": \", valor, sep=\"\")"
   ]
  },
  {
   "cell_type": "markdown",
   "metadata": {},
   "source": [
    "#### Diccionarios por comprensión (o _dictionary comprehensions_)\n",
    "Podemos crear diccionarios de forma compacta de la misma manera que hemos hecho con las listas y los conjuntos; la única diferencia es que tenemos que especificar la clave y el valor para cada elemento:"
   ]
  },
  {
   "cell_type": "code",
   "execution_count": 10,
   "metadata": {},
   "outputs": [
    {
     "name": "stdout",
     "output_type": "stream",
     "text": [
      "{'gato': 'G', 'perro': 'P', 'mono': 'M'}\n"
     ]
    }
   ],
   "source": [
    "lista = [\"gato\", \"perro\", \"mono\"]\n",
    "\n",
    "iniciales_mayus = {palabra: palabra[0].upper() for palabra in lista}\n",
    "\n",
    "print(iniciales_mayus)"
   ]
  },
  {
   "cell_type": "markdown",
   "metadata": {},
   "source": [
    "Podemos imprimir el diccionario resultante de una forma más elegante si queremos:"
   ]
  },
  {
   "cell_type": "code",
   "execution_count": 11,
   "metadata": {},
   "outputs": [
    {
     "name": "stdout",
     "output_type": "stream",
     "text": [
      "La inicial de gato es G\n",
      "La inicial de perro es P\n",
      "La inicial de mono es M\n"
     ]
    }
   ],
   "source": [
    "for clave, valor in iniciales_mayus.items():\n",
    "    print(\"La inicial de\", clave, \"es\", valor)"
   ]
  },
  {
   "cell_type": "markdown",
   "metadata": {},
   "source": [
    "## Bucles con strings\n",
    "Las cadenas de caracteres se pueden recorrer también, lo cual es muy útil para aplicar transformaciones a ciertos caracteres.\n",
    "\n",
    "Supongamos que, por lo que sea, queremos eliminar la puntuación de la cadena que introduzca el usuario. Pues tendremos que recorrerla y meter cada elemento en una nueva lista, excepto si se trata de un carácter de puntuación (que podemos averiguar evaluando si se encuentra en una lista de caracteres de puntuación)."
   ]
  },
  {
   "cell_type": "code",
   "execution_count": 17,
   "metadata": {},
   "outputs": [
    {
     "name": "stdout",
     "output_type": "stream",
     "text": [
      "¿Qué estás pensando?: Eso digo yo, ¿qué estaré pensando?\n",
      "['E', 's', 'o', ' ', 'd', 'i', 'g', 'o', ' ', 'y', 'o', ' ', 'q', 'u', 'é', ' ', 'e', 's', 't', 'a', 'r', 'é', ' ', 'p', 'e', 'n', 's', 'a', 'n', 'd', 'o']\n"
     ]
    }
   ],
   "source": [
    "punctuation = [\".\", \",\", \":\", \";\", \"-\", \"_\", \"¿\", \"?\", \"¡\", \"!\", \"'\", '\"']\n",
    "curated_text = []\n",
    "\n",
    "raw_text = input(\"¿Qué estás pensando?: \")\n",
    "for character in raw_text:\n",
    "    if character not in punctuation:\n",
    "        curated_text.append(character)\n",
    "\n",
    "print(curated_text)"
   ]
  },
  {
   "cell_type": "markdown",
   "metadata": {},
   "source": [
    "Pero ¡hay un problema! Hemos partido de una string y hemos terminado con una lista. ¿Y cómo convertir una lista en una string?\n",
    "\n",
    "Podemos pasar de strings a listas de dos maneras, dependiendo de lo que queramos hacer:\n",
    "- si lo que queremos es convertir cada carácter en un elemento de una lista, podemos usar `list()` pasándole la string como argumento\n",
    "- si lo que queremos es que la string se divida en elementos de una lista dependiendo de cierto carácter (por ejemplo, es muy interesante hacerlo con el espacio o la coma), podemos aplicarle el método `.split()` a la string, y pasarle como argumento el carácter separador (que por defecto, si dejamos el paréntesis vacío, va a ser el espacio)\n",
    "\n",
    "Observa cómo las líneas 2 y 3 imprimen lo mismo, y cómo la línea 4 no imprime ni la coma ni el espacio:"
   ]
  },
  {
   "cell_type": "code",
   "execution_count": 14,
   "metadata": {},
   "outputs": [
    {
     "name": "stdout",
     "output_type": "stream",
     "text": [
      "['l', 'e', 'c', 'h', 'e', ',', ' ', 'h', 'u', 'e', 'v', 'o', 's', ',', ' ', 't', 'o', 'm', 'a', 't', 'e', 's']\n",
      "['leche,', 'huevos,', 'tomates']\n",
      "['leche,', 'huevos,', 'tomates']\n",
      "['leche', 'huevos', 'tomates']\n"
     ]
    }
   ],
   "source": [
    "print(list(\"leche, huevos, tomates\"))\n",
    "print(\"leche, huevos, tomates\".split())\n",
    "print(\"leche, huevos, tomates\".split(\" \"))\n",
    "print(\"leche, huevos, tomates\".split(\", \"))"
   ]
  },
  {
   "cell_type": "markdown",
   "metadata": {},
   "source": [
    "También podemos pasar de listas a strings con el método `.join()`. Este método se aplica al carácter que queramos usar como pegamento, es decir, si queremos que salga todo pegado pondremos simplemente una string vacía, `''`; y si queremos por ejemplo que se separe por espacios escribiremos `' '`. Toma como argumento la lista que queremos convertir en string. Es el mismo razonamiento que cuando creamos una lista vacía para luego meterle elementos."
   ]
  },
  {
   "cell_type": "code",
   "execution_count": 15,
   "metadata": {},
   "outputs": [
    {
     "name": "stdout",
     "output_type": "stream",
     "text": [
      "Esto es una lista:  ['leche', 'huevos', 'tomates']\n",
      "Esto es una string: leche huevos tomates\n"
     ]
    }
   ],
   "source": [
    "lista = \"leche, huevos, tomates\".split(\", \")\n",
    "print(\"Esto es una lista: \", lista)\n",
    "\n",
    "string = ' '.join(lista)\n",
    "print(\"Esto es una string:\", string)"
   ]
  },
  {
   "cell_type": "markdown",
   "metadata": {},
   "source": [
    "Así, podemos arreglar nuestro `curated_text` de la siguiente manera:"
   ]
  },
  {
   "cell_type": "code",
   "execution_count": 18,
   "metadata": {},
   "outputs": [
    {
     "name": "stdout",
     "output_type": "stream",
     "text": [
      "Eso digo yo qué estaré pensando\n"
     ]
    }
   ],
   "source": [
    "curated_text = ''.join(curated_text)\n",
    "print(curated_text)"
   ]
  },
  {
   "cell_type": "markdown",
   "metadata": {},
   "source": [
    "## Bucles con estructuras dentro de otras estructuras\n",
    "Por supuesto, las estructuras pueden contener estructuras a su vez. Por ejemplo, una lista puede contener conjuntos, diccionarios, otras listas... y al revés.\n",
    "\n",
    "Por ejemplo, imaginemos que nos han recomendado una serie de libros y solo queremos añadir a la lista de la compra los que no tenemos ya. Podemos meter la información de cada libro en un diccionario, y todos los diccionarios dentro de una lista, para después recorrer esa lista y comprobar el dato de si lo tenemos en casa o no. Si lo tenemos, no haremos nada; si no lo tenemos, lo añadiremos a la lista. Después, imprimiremos cada uno de los elementos de la lista con otro bucle, ya que no podemos saber de antemano cuántos habrá."
   ]
  },
  {
   "cell_type": "code",
   "execution_count": 19,
   "metadata": {},
   "outputs": [
    {
     "name": "stdout",
     "output_type": "stream",
     "text": [
      "Tengo que comprar:\n",
      "In Our Own Image\n",
      "The Age of Surveillance Capitalism\n"
     ]
    }
   ],
   "source": [
    "### Datos\n",
    "libros = [\n",
    "    {\n",
    "        'title': 'Sapiens',\n",
    "        'lo tengo': True\n",
    "    }, {\n",
    "        'title': 'In Our Own Image',\n",
    "        'lo tengo': False\n",
    "    }, {\n",
    "        'title': 'The Age of Surveillance Capitalism',\n",
    "        'lo tengo': False\n",
    "    }\n",
    "]\n",
    "\n",
    "### Programa\n",
    "# Obtengo los libros que tengo que comprar\n",
    "lista_de_la_compra = []\n",
    "for libro in libros:\n",
    "    if not libro['lo tengo']:\n",
    "        lista_de_la_compra.append(libro['title'])\n",
    "\n",
    "# Imprimo un mensaje para saber qué libros tengo que comprar\n",
    "print(\"Tengo que comprar:\")\n",
    "for elemento in lista_de_la_compra:\n",
    "    print(elemento)"
   ]
  },
  {
   "cell_type": "markdown",
   "metadata": {},
   "source": [
    "## Ejercicios"
   ]
  },
  {
   "cell_type": "markdown",
   "metadata": {},
   "source": [
    "### 060301\n",
    "A partir del siguiente conjunto, crea una lista `inversos` usando el método de listas por compresión, y aplicándole a cada número la operación `1 / n` para hallar su inverso. Imprime la lista."
   ]
  },
  {
   "cell_type": "code",
   "execution_count": 20,
   "metadata": {},
   "outputs": [],
   "source": [
    "numeros = {1, 2.9, 10, 29, 100, 290}"
   ]
  },
  {
   "cell_type": "markdown",
   "metadata": {},
   "source": [
    "### 060302\n",
    "En el cuaderno 0301 os puse un ejemplo de [lengua ballena](https://www.youtube.com/watch?v=tR9vr6XlwtE). Ahora podemos construir un traductor castellano-balleno, haciendo que un bucle recorra todos los elementos de la string que le pidamos al usuario, y haciendo que, si el elemento es una vocal, se escriba 7 veces.\n",
    "\n",
    "Guarda en la variable `origen` la frase que quiera traducir el usuario y declara una lista vacía llamada `meta`. Ve metiendo en `meta` los elementos de origen, haciendo que, si son vocales, se multipliquen por 7. Finalmente, imprime los elementos de `meta` unidos, es decir, imprimiendo `''.join(meta)`.\n",
    "\n",
    "Puedes hacerlo solo con las vocales sin tilde o extenderlo a ellas, como quieras."
   ]
  }
 ],
 "metadata": {
  "kernelspec": {
   "display_name": "Python 3",
   "language": "python",
   "name": "python3"
  },
  "language_info": {
   "codemirror_mode": {
    "name": "ipython",
    "version": 3
   },
   "file_extension": ".py",
   "mimetype": "text/x-python",
   "name": "python",
   "nbconvert_exporter": "python",
   "pygments_lexer": "ipython3",
   "version": "3.7.0"
  }
 },
 "nbformat": 4,
 "nbformat_minor": 2
}
